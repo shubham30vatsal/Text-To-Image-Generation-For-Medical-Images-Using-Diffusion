{
 "cells": [
  {
   "cell_type": "code",
   "execution_count": 5,
   "metadata": {},
   "outputs": [],
   "source": [
    "# !pip3 install -U scikit-learn scipy matplotlib"
   ]
  },
  {
   "cell_type": "code",
   "execution_count": 6,
   "metadata": {},
   "outputs": [],
   "source": [
    "# !python --version"
   ]
  },
  {
   "cell_type": "code",
   "execution_count": null,
   "metadata": {},
   "outputs": [],
   "source": [
    "model_ckpt = \"/home/rm5707/ImageClefMedical-main/concept_detection/multilabel/results/multilabel/2022-12-10_04-22-30/best_model.pt\"\n",
    "/home/rm5707/ImageClefMedical-main/concept_detection/multilabel/results/multilabel/2022-12-11_07-21-08/best_model.pt\n",
    "\n",
    "images_csv = \"/home/rm5707/ImageClefMedical-main/concept_detection/multilabel/cuis_top_test_50.txt\""
   ]
  },
  {
   "cell_type": "code",
   "execution_count": null,
   "metadata": {},
   "outputs": [],
   "source": [
    "# First training"
   ]
  },
  {
   "cell_type": "code",
   "execution_count": 5,
   "metadata": {},
   "outputs": [],
   "source": [
    "#!python inference.py --basedir /home/rm5707/ImageClefMedical-main/concept_detection/multilabel --nr_concepts 50 --images_csv /home/rm5707/ImageClefMedical-main/concept_detection/multilabel/cuis_top_test_50.txt --ckpt /home/rm5707/ImageClefMedical-main/concept_detection/multilabel/results/multilabel/2022-12-10_04-22-30/best_model.pt"
   ]
  },
  {
   "cell_type": "code",
   "execution_count": 12,
   "metadata": {
    "scrolled": true
   },
   "outputs": [
    {
     "name": "stdout",
     "output_type": "stream",
     "text": [
      "Epoch of best val loss 7\n",
      "Using concept File :  /home/rm5707/ImageClefMedical-main/concept_detection/multilabel/concepts_top_50.txt\n",
      "(6321, 50)\n",
      "100%|███████████████████████████████████████| 6321/6321 [03:02<00:00, 34.55it/s]\n",
      "y_true :  torch.Size([6321, 50])\n",
      "y_pred :  torch.Size([6321, 50])\n",
      "F1 score : 0.15675778213249403\n"
     ]
    }
   ],
   "source": [
    "# !python inference.py --basedir /home/rm5707/ImageClefMedical-main/concept_detection/multilabel --nr_concepts 50 --images_csv /home/rm5707/ImageClefMedical-main/concept_detection/multilabel/cuis_top_test_50.txt --ckpt /home/rm5707/ImageClefMedical-main/concept_detection/multilabel/results/multilabel/2022-12-10_04-22-30/best_model.pt\n",
    "\n",
    "# Epoch of best val loss 7\n",
    "# Using concept File :  /home/rm5707/ImageClefMedical-main/concept_detection/multilabel/concepts_top_50.txt\n",
    "# (6321, 50)\n",
    "# 100%|███████████████████████████████████████| 6321/6321 [03:02<00:00, 34.55it/s]\n",
    "# y_true :  torch.Size([6321, 50])\n",
    "# y_pred :  torch.Size([6321, 50])\n",
    "\n",
    "#-- average=weighted\n",
    "# F1 score : 0.15675778213249403 \n",
    "\n",
    "#--average=None\n",
    "# F1 score : [0.29714857 0.29726997 0.25517627 0.         0.         0.\n",
    "#  0.1275222  0.51689612 0.13481071 0.05496829 0.47361299 0.10693069\n",
    "#  0.10789211 0.02277904 0.51967213 0.39016393 0.3812825  0.03880597\n",
    "#  0.         0.01202405 0.00997506 0.         0.16734694 0.01257862\n",
    "#  0.47082495 0.10942249 0.         0.23441397 0.00647249 0.14975845\n",
    "#  0.06896552 0.30144928 0.         0.         0.         0.\n",
    "#  0.25080386 0.07692308 0.         0.03389831 0.02714932 0.\n",
    "#  0.03076923 0.17667845 0.         0.13385827 0.         0.\n",
    "#  0.         0.        ]"
   ]
  },
  {
   "cell_type": "code",
   "execution_count": 1,
   "metadata": {},
   "outputs": [
    {
     "name": "stdout",
     "output_type": "stream",
     "text": [
      "Epoch of best val loss 11\n",
      "Using concept File :  /home/rm5707/ImageClefMedical-main/concept_detection/multilabel/concepts_top_50.txt\n",
      "(6321, 50)\n",
      "100%|███████████████████████████████████████| 6321/6321 [05:50<00:00, 18.03it/s]\n",
      "y_true :  torch.Size([6321, 50])\n",
      "y_pred :  torch.Size([6321, 50])\n",
      "F1 score (weighted): 0.23698127838004346\n",
      "F1 score (None)    : [0.68915344 0.6698729  0.61026034 0.09415121 0.09155937 0.08759124\n",
      " 0.00968054 0.60417843 0.08342023 0.01157407 0.54367666 0.08369099\n",
      " 0.08991228 0.04479283 0.54934211 0.38545455 0.41366574 0.00315457\n",
      " 0.02872531 0.         0.05963303 0.06190476 0.21505376 0.06451613\n",
      " 0.44585987 0.37527594 0.         0.29906542 0.0619195  0.00699301\n",
      " 0.04347826 0.18050542 0.00704225 0.         0.05020921 0.\n",
      " 0.40490798 0.1302682  0.         0.03389831 0.05607477 0.03478261\n",
      " 0.25       0.13229572 0.         0.         0.         0.01\n",
      " 0.         0.04545455]\n"
     ]
    }
   ],
   "source": [
    "!python inference.py --basedir /home/rm5707/ImageClefMedical-main/concept_detection/multilabel --nr_concepts 50 --images_csv /home/rm5707/ImageClefMedical-main/concept_detection/multilabel/cuis_top_test_50.txt --ckpt /home/rm5707/ImageClefMedical-main/concept_detection/multilabel/results/multilabel/2022-12-11_07-21-08/best_model.pt\n",
    "# Epoch of best val loss 11\n",
    "# Using concept File :  /home/rm5707/ImageClefMedical-main/concept_detection/multilabel/concepts_top_50.txt\n",
    "# (6321, 50)\n",
    "# 100%|███████████████████████████████████████| 6321/6321 [05:50<00:00, 18.03it/s]\n",
    "# y_true :  torch.Size([6321, 50])\n",
    "# y_pred :  torch.Size([6321, 50])\n",
    "# F1 score (weighted): 0.23698127838004346\n",
    "# F1 score (None)    : [0.68915344 0.6698729  0.61026034 0.09415121 0.09155937 0.08759124\n",
    "#  0.00968054 0.60417843 0.08342023 0.01157407 0.54367666 0.08369099\n",
    "#  0.08991228 0.04479283 0.54934211 0.38545455 0.41366574 0.00315457\n",
    "#  0.02872531 0.         0.05963303 0.06190476 0.21505376 0.06451613\n",
    "#  0.44585987 0.37527594 0.         0.29906542 0.0619195  0.00699301\n",
    "#  0.04347826 0.18050542 0.00704225 0.         0.05020921 0.\n",
    "#  0.40490798 0.1302682  0.         0.03389831 0.05607477 0.03478261\n",
    "#  0.25       0.13229572 0.         0.         0.         0.01\n",
    "#  0.         0.04545455]"
   ]
  },
  {
   "cell_type": "code",
   "execution_count": 1,
   "metadata": {},
   "outputs": [
    {
     "name": "stdout",
     "output_type": "stream",
     "text": [
      "Epoch of best val loss 11\n",
      "Using concept File :  /home/rm5707/ImageClefMedical-main/concept_detection/multilabel/concepts_top_50.txt\n",
      "(6321, 50)\n",
      "100%|███████████████████████████████████████| 6321/6321 [04:22<00:00, 24.08it/s]\n",
      "y_true :  torch.Size([6321, 50])\n",
      "y_pred :  torch.Size([6321, 50])\n",
      "F1 score (weighted): 0.23698127838004346\n",
      "F1 score (None)    : [0.68915344 0.6698729  0.61026034 0.09415121 0.09155937 0.08759124\n",
      " 0.00968054 0.60417843 0.08342023 0.01157407 0.54367666 0.08369099\n",
      " 0.08991228 0.04479283 0.54934211 0.38545455 0.41366574 0.00315457\n",
      " 0.02872531 0.         0.05963303 0.06190476 0.21505376 0.06451613\n",
      " 0.44585987 0.37527594 0.         0.29906542 0.0619195  0.00699301\n",
      " 0.04347826 0.18050542 0.00704225 0.         0.05020921 0.\n",
      " 0.40490798 0.1302682  0.         0.03389831 0.05607477 0.03478261\n",
      " 0.25       0.13229572 0.         0.         0.         0.01\n",
      " 0.         0.04545455]\n",
      "F1 score (micro)    : 0.3074350179993764\n"
     ]
    }
   ],
   "source": [
    "!python inference.py --basedir /home/rm5707/ImageClefMedical-main/concept_detection/multilabel --nr_concepts 50 --images_csv /home/rm5707/ImageClefMedical-main/concept_detection/multilabel/cuis_top_test_50.txt --ckpt /home/rm5707/ImageClefMedical-main/concept_detection/multilabel/results/multilabel/2022-12-11_07-21-08/best_model.pt"
   ]
  },
  {
   "cell_type": "code",
   "execution_count": 1,
   "metadata": {},
   "outputs": [],
   "source": [
    "result = [0.68915344,0.6698729,0.61026034,0.09415121,0.09155937,0.08759124\n",
    ",0.00968054,0.60417843,0.08342023,0.01157407,0.54367666,0.08369099\n",
    ",0.08991228,0.04479283,0.54934211,0.38545455,0.41366574,0.00315457\n",
    ",0.02872531,0.,0.05963303,0.06190476,0.21505376,0.06451613\n",
    ",0.44585987,0.37527594,0.,0.29906542,0.0619195,0.00699301\n",
    ",0.04347826,0.18050542,0.00704225,0.,0.05020921,0.\n",
    ",0.40490798,0.1302682,0.,0.03389831,0.05607477,0.03478261\n",
    ",0.25,0.13229572,0.,0.,0.,0.01\n",
    ",0.,0.04545455]"
   ]
  },
  {
   "cell_type": "code",
   "execution_count": 4,
   "metadata": {},
   "outputs": [],
   "source": [
    "import numpy as np"
   ]
  },
  {
   "cell_type": "code",
   "execution_count": 6,
   "metadata": {},
   "outputs": [],
   "source": [
    "result = np.array(result)"
   ]
  },
  {
   "cell_type": "code",
   "execution_count": 22,
   "metadata": {},
   "outputs": [],
   "source": [
    "r = np.where(result > 0.4)[0]\n"
   ]
  },
  {
   "cell_type": "code",
   "execution_count": 23,
   "metadata": {},
   "outputs": [],
   "source": [
    "vals = ['C1546708','C1837463','C0376152','C0015726','C0423899','C1261259','C1696103','C1306645','C0040395','C0441633','C0043299','C0034579','C0040405','C0771936','C0817096','C1962945','C1548003','C0772294','C4300092','C0221198','C1507248','C0009924','C0024109','C0751437','C0002978','C0935598','C0027651','C0041618','C0000726','C0231881','C0796494','C0006104','C0607422','C0751438','C0027530','C0015252','C0018787','C0030797','C0728940','C1963113','C2707265','C0016658','C0018827','C0412555','C1552858','C0003842','C1553386','C1561542','C0042449','C0022646']"
   ]
  },
  {
   "cell_type": "code",
   "execution_count": 27,
   "metadata": {},
   "outputs": [
    {
     "name": "stdout",
     "output_type": "stream",
     "text": [
      "C1546708\n",
      "C1837463\n",
      "C0376152\n",
      "C1306645\n",
      "C0043299\n",
      "C0817096\n",
      "C1548003\n",
      "C0002978\n",
      "C0018787\n"
     ]
    }
   ],
   "source": [
    "for i in r:\n",
    "    print(vals[i])"
   ]
  },
  {
   "cell_type": "code",
   "execution_count": null,
   "metadata": {},
   "outputs": [],
   "source": []
  },
  {
   "cell_type": "code",
   "execution_count": 1,
   "metadata": {},
   "outputs": [
    {
     "name": "stdout",
     "output_type": "stream",
     "text": [
      "Epoch of best val loss 18\n",
      "Using concept File :  /home/rm5707/ImageClefMedical-main/concept_detection/multilabel/concepts_top_50.txt\n",
      "(6321, 50)\n",
      "100%|███████████████████████████████████████| 6321/6321 [05:00<00:00, 21.02it/s]\n",
      "y_true :  torch.Size([6321, 50])\n",
      "y_pred :  torch.Size([6321, 50])\n",
      "F1 score (weighted): 0.27881541486547934\n",
      "F1 score (None)    : [0.72222222 0.70973963 0.66436464 0.10874054 0.10672211 0.10140845\n",
      " 0.06575342 0.63232104 0.28050713 0.06403415 0.6119144  0.18562329\n",
      " 0.19678335 0.14638971 0.63437926 0.47446976 0.51642475 0.\n",
      " 0.02841918 0.         0.         0.         0.21621622 0.08815427\n",
      " 0.50894632 0.24043716 0.         0.09580838 0.05487805 0.0070922\n",
      " 0.02222222 0.33333333 0.         0.0077821  0.06722689 0.\n",
      " 0.42898551 0.14336918 0.         0.23076923 0.13821138 0.22018349\n",
      " 0.40514469 0.04273504 0.         0.13492063 0.         0.\n",
      " 0.         0.06593407]\n",
      "F1 score (micro)    : 0.3569122549148272\n"
     ]
    }
   ],
   "source": [
    "!python inference.py --basedir /home/rm5707/ImageClefMedical-main/concept_detection/multilabel --nr_concepts 50 --images_csv /home/rm5707/ImageClefMedical-main/concept_detection/multilabel/cuis_top_test_50.txt --ckpt /home/rm5707/ImageClefMedical-main/concept_detection/multilabel/results/multilabel/2022-12-11_22-01-42/best_model.pt"
   ]
  },
  {
   "cell_type": "code",
   "execution_count": 1,
   "metadata": {},
   "outputs": [
    {
     "name": "stdout",
     "output_type": "stream",
     "text": [
      "Epoch of best val loss 18\n",
      "Using concept File :  /home/rm5707/ImageClefMedical-main/concept_detection/multilabel/concepts_top_50.txt\n",
      "(6321, 50)\n",
      "100%|███████████████████████████████████████| 6321/6321 [04:50<00:00, 21.73it/s]\n",
      "y_true :  torch.Size([6321, 50])\n",
      "y_pred :  torch.Size([6321, 50])\n",
      "F1 score (weighted): 0.27881541486547934\n",
      "F1 score (None)    : [0.72222222 0.70973963 0.66436464 0.10874054 0.10672211 0.10140845\n",
      " 0.06575342 0.63232104 0.28050713 0.06403415 0.6119144  0.18562329\n",
      " 0.19678335 0.14638971 0.63437926 0.47446976 0.51642475 0.\n",
      " 0.02841918 0.         0.         0.         0.21621622 0.08815427\n",
      " 0.50894632 0.24043716 0.         0.09580838 0.05487805 0.0070922\n",
      " 0.02222222 0.33333333 0.         0.0077821  0.06722689 0.\n",
      " 0.42898551 0.14336918 0.         0.23076923 0.13821138 0.22018349\n",
      " 0.40514469 0.04273504 0.         0.13492063 0.         0.\n",
      " 0.         0.06593407]\n",
      "F1 score (micro)    : 0.3569122549148272\n"
     ]
    }
   ],
   "source": [
    "# On test Images\n",
    "f\n",
    "!python inference.py --basedir /home/rm5707/ImageClefMedical-main/concept_detection/multilabel --nr_concepts 50 --images_csv /home/rm5707/ImageClefMedical-main/concept_detection/multilabel/cuis_top_test_50.txt --ckpt /home/rm5707/ImageClefMedical-main/concept_detection/multilabel/results/multilabel/2022-12-11_22-01-42/best_model.pt --image_dir /scratch/rm5707/roco-dataset-master/data/test/radiology/images"
   ]
  },
  {
   "cell_type": "code",
   "execution_count": 2,
   "metadata": {},
   "outputs": [
    {
     "name": "stdout",
     "output_type": "stream",
     "text": [
      "Epoch of best val loss 18\n",
      "Using concept File :  /home/rm5707/ImageClefMedical-main/concept_detection/multilabel/concepts_top_50.txt\n",
      "(6321, 50)\n",
      "100%|███████████████████████████████████████| 6321/6321 [04:43<00:00, 22.29it/s]\n",
      "y_true :  torch.Size([6321, 50])\n",
      "y_pred :  torch.Size([6321, 50])\n",
      "F1 score (weighted): 0.2984453404889996\n",
      "F1 score (None)    : [0.69707812 0.69504409 0.65729235 0.12347267 0.11955815 0.11601846\n",
      " 0.06504065 0.70096099 0.31166797 0.05172414 0.67100592 0.19410086\n",
      " 0.20676329 0.31388013 0.71232877 0.5431918  0.595186   0.\n",
      " 0.02150538 0.         0.00498753 0.00519481 0.27474747 0.096\n",
      " 0.63576159 0.19125683 0.         0.08049536 0.07831325 0.02120141\n",
      " 0.         0.35443038 0.00699301 0.00784314 0.03404255 0.\n",
      " 0.4702381  0.25230769 0.         0.19871795 0.16727273 0.18064516\n",
      " 0.36024845 0.01762115 0.         0.2591687  0.         0.\n",
      " 0.         0.08737864]\n",
      "F1 score (micro)    : 0.3803186126235128\n"
     ]
    }
   ],
   "source": [
    "# On Generated Images\n",
    "f\n",
    "!python inference.py --basedir /home/rm5707/ImageClefMedical-main/concept_detection/multilabel \\\n",
    "                    --nr_concepts 50 --images_csv /home/rm5707/ImageClefMedical-main/concept_detection/multilabel/cuis_top_test_50.txt \\\n",
    "                    --ckpt /home/rm5707/ImageClefMedical-main/concept_detection/multilabel/results/multilabel/2022-12-11_22-01-42/best_model.pt \\\n",
    "                    --image_dir /scratch/rm5707/test-generated/test"
   ]
  },
  {
   "cell_type": "code",
   "execution_count": 2,
   "metadata": {},
   "outputs": [
    {
     "name": "stdout",
     "output_type": "stream",
     "text": [
      "TEST\n",
      "Arguments :\n",
      "Namespace(gpu_id='0', num_workers=4, basedir='/home/rm5707/ImageClefMedical-main/concept_detection/multilabel', nr_concepts='50', ckpt='/home/rm5707/ImageClefMedical-main/concept_detection/multilabel/results/multilabel/best_model_backup_epoch_18.pt', images_csv='/home/rm5707/ImageClefMedical-main/concept_detection/multilabel/cuis_top_test_50.txt', image_dir='/scratch/rm5707/roco-dataset-master/data/test/radiology/images', inference_type='test')\n",
      "Epoch of best val loss 18\n",
      "Using concept File :  /home/rm5707/ImageClefMedical-main/concept_detection/multilabel/concepts_top_50.txt\n",
      "Total [ 0 ] images with no CUIds.\n",
      "(6321, 50)\n",
      "100%|███████████████████████████████████████| 6321/6321 [03:12<00:00, 32.86it/s]\n",
      "Created :  /home/rm5707/ImageClefMedical-main/concept_detection/multilabel/results/multilabel/preds_test.txt\n",
      "y_true :  torch.Size([6321, 50])\n",
      "y_pred :  torch.Size([6321, 50])\n",
      "F1 score (weighted): 0.27881541486547934\n",
      "F1 score (None)    : [0.72222222 0.70973963 0.66436464 0.10874054 0.10672211 0.10140845\n",
      " 0.06575342 0.63232104 0.28050713 0.06403415 0.6119144  0.18562329\n",
      " 0.19678335 0.14638971 0.63437926 0.47446976 0.51642475 0.\n",
      " 0.02841918 0.         0.         0.         0.21621622 0.08815427\n",
      " 0.50894632 0.24043716 0.         0.09580838 0.05487805 0.0070922\n",
      " 0.02222222 0.33333333 0.         0.0077821  0.06722689 0.\n",
      " 0.42898551 0.14336918 0.         0.23076923 0.13821138 0.22018349\n",
      " 0.40514469 0.04273504 0.         0.13492063 0.         0.\n",
      " 0.         0.06593407]\n",
      "F1 score (micro)    : 0.3569122549148272\n"
     ]
    }
   ],
   "source": [
    "# On test Images\n",
    "!python inference.py --basedir /home/rm5707/ImageClefMedical-main/concept_detection/multilabel \\\n",
    "                    --nr_concepts 50 \\\n",
    "                    --images_csv /home/rm5707/ImageClefMedical-main/concept_detection/multilabel/cuis_top_test_50.txt \\\n",
    "                    --ckpt /home/rm5707/ImageClefMedical-main/concept_detection/multilabel/results/multilabel/best_model_backup_epoch_18.pt\\\n",
    "                    --image_dir /scratch/rm5707/roco-dataset-master/data/test/radiology/images \\\n",
    "                    --inference_type test"
   ]
  },
  {
   "cell_type": "code",
   "execution_count": 3,
   "metadata": {
    "scrolled": true
   },
   "outputs": [
    {
     "name": "stdout",
     "output_type": "stream",
     "text": [
      "TEST-GENERATED\n",
      "Arguments :\n",
      "Namespace(gpu_id='0', num_workers=4, basedir='/home/rm5707/ImageClefMedical-main/concept_detection/multilabel', nr_concepts='50', ckpt='/home/rm5707/ImageClefMedical-main/concept_detection/multilabel/results/multilabel/best_model_backup_epoch_18.pt', images_csv='/home/rm5707/ImageClefMedical-main/concept_detection/multilabel/results/multilabel/2022-12-11_22-01-42/preds_test.txt', image_dir='/scratch/rm5707/test-generated/test', inference_type='test-generated')\n",
      "Epoch of best val loss 18\n",
      "Using concept File :  /home/rm5707/ImageClefMedical-main/concept_detection/multilabel/concepts_top_50.txt\n",
      "Total [ 2594 ] images with no CUIds.\n",
      "(6321, 50)\n",
      "100%|███████████████████████████████████████| 6321/6321 [02:54<00:00, 36.16it/s]\n",
      "Created :  /home/rm5707/ImageClefMedical-main/concept_detection/multilabel/results/multilabel/preds_test-generated.txt\n",
      "y_true :  torch.Size([6321, 50])\n",
      "y_pred :  torch.Size([6321, 50])\n",
      "/ext3/miniconda3/envs/fall-ml-2022/lib/python3.10/site-packages/sklearn/metrics/_classification.py:1609: UndefinedMetricWarning: F-score is ill-defined and being set to 0.0 in labels with no true nor predicted samples. Use `zero_division` parameter to control this behavior.\n",
      "  _warn_prf(average, \"true nor predicted\", \"F-score is\", len(true_sum))\n",
      "F1 score (weighted): 0.5214874681057542\n",
      "/ext3/miniconda3/envs/fall-ml-2022/lib/python3.10/site-packages/sklearn/metrics/_classification.py:1609: UndefinedMetricWarning: F-score is ill-defined and being set to 0.0 in labels with no true nor predicted samples. Use `zero_division` parameter to control this behavior.\n",
      "  _warn_prf(average, \"true nor predicted\", \"F-score is\", len(true_sum))\n",
      "F1 score (None)    : [0.6163522  0.60831382 0.58013828 0.22815534 0.24365482 0.2377261\n",
      " 0.09195402 0.67181467 0.20945083 0.0794702  0.64956268 0.15207373\n",
      " 0.13551402 0.13756614 0.73170732 0.53787234 0.58441558 0.\n",
      " 0.         0.         0.         0.         0.26623377 0.28070175\n",
      " 0.4845679  0.14473684 0.         0.08163265 0.27272727 0.\n",
      " 0.         0.30976431 0.         0.         0.15384615 0.\n",
      " 0.49756098 0.28571429 0.         0.27777778 0.07476636 0.2629108\n",
      " 0.43346008 0.         0.         0.21513944 0.         0.\n",
      " 0.         0.11111111]\n",
      "F1 score (micro)    : 0.5126776717322737\n"
     ]
    }
   ],
   "source": [
    "# On Generated Images\n",
    "!python inference.py --basedir /home/rm5707/ImageClefMedical-main/concept_detection/multilabel \\\n",
    "                    --nr_concepts 50 \\\n",
    "                    --images_csv /home/rm5707/ImageClefMedical-main/concept_detection/multilabel/results/multilabel/2022-12-11_22-01-42/preds_test.txt \\\n",
    "                    --ckpt /home/rm5707/ImageClefMedical-main/concept_detection/multilabel/results/multilabel/best_model_backup_epoch_18.pt\\\n",
    "                    --image_dir /scratch/rm5707/test-generated/test \\\n",
    "                    --inference_type test-generated"
   ]
  },
  {
   "cell_type": "code",
   "execution_count": null,
   "metadata": {},
   "outputs": [],
   "source": []
  },
  {
   "cell_type": "code",
   "execution_count": null,
   "metadata": {},
   "outputs": [],
   "source": []
  },
  {
   "cell_type": "code",
   "execution_count": null,
   "metadata": {},
   "outputs": [],
   "source": []
  },
  {
   "cell_type": "code",
   "execution_count": 1,
   "metadata": {},
   "outputs": [
    {
     "name": "stdout",
     "output_type": "stream",
     "text": [
      "TEST\n",
      "Arguments :\n",
      "Namespace(gpu_id='0', num_workers=4, basedir='/home/rm5707/ImageClefMedical-main/concept_detection/multilabel', nr_concepts='50', ckpt='/home/rm5707/ImageClefMedical-main/concept_detection/multilabel/results/multilabel/2022-12-12_06-37-33/best_model.pt', images_csv='/home/rm5707/ImageClefMedical-main/concept_detection/multilabel/cuis_top_test_50.txt', image_dir='/scratch/rm5707/roco-dataset-master/data/test/radiology/images', inference_type='test')\n",
      "Epoch of best val loss 25\n",
      "Using concept File :  /home/rm5707/ImageClefMedical-main/concept_detection/multilabel/concepts_top_50.txt\n",
      "Total [ 0 ] images with no CUIds.\n",
      "(6321, 50)\n",
      "100%|███████████████████████████████████████| 6321/6321 [05:17<00:00, 19.88it/s]\n",
      "Created :  /home/rm5707/ImageClefMedical-main/concept_detection/multilabel/results/multilabel/2022-12-12_06-37-33/preds_test.txt\n",
      "y_true :  torch.Size([6321, 50])\n",
      "y_pred :  torch.Size([6321, 50])\n",
      "F1 score (weighted): 0.27252200502753504\n",
      "F1 score (None)    : [0.7458359  0.73825924 0.69562312 0.15425181 0.13872054 0.14246947\n",
      " 0.03425309 0.58467244 0.19803747 0.05303867 0.50906454 0.14980545\n",
      " 0.154      0.25785124 0.60394537 0.38698011 0.46539792 0.00315956\n",
      " 0.03900709 0.         0.         0.         0.16625917 0.05405405\n",
      " 0.52513966 0.17751479 0.         0.17222222 0.00643087 0.03311258\n",
      " 0.00775194 0.25974026 0.02112676 0.         0.18587361 0.\n",
      " 0.46448087 0.12454212 0.         0.075      0.21969697 0.04424779\n",
      " 0.3255814  0.0173913  0.         0.00956938 0.         0.\n",
      " 0.         0.05747126]\n",
      "F1 score (micro)    : 0.34895297873491693\n"
     ]
    }
   ],
   "source": [
    "# On test Images : Test(GT) vs \n",
    "!python inference.py --basedir /home/rm5707/ImageClefMedical-main/concept_detection/multilabel \\\n",
    "                    --nr_concepts 50 \\\n",
    "                    --images_csv /home/rm5707/ImageClefMedical-main/concept_detection/multilabel/cuis_top_test_50.txt \\\n",
    "                    --ckpt /home/rm5707/ImageClefMedical-main/concept_detection/multilabel/results/multilabel/2022-12-12_06-37-33/best_model.pt\\\n",
    "                    --image_dir /scratch/rm5707/roco-dataset-master/data/test/radiology/images \\\n",
    "                    --inference_type test"
   ]
  },
  {
   "cell_type": "code",
   "execution_count": 3,
   "metadata": {},
   "outputs": [
    {
     "name": "stdout",
     "output_type": "stream",
     "text": [
      "Arguments :\n",
      "Namespace(gpu_id='0', num_workers=4, basedir='/home/rm5707/ImageClefMedical-main/concept_detection/multilabel', nr_concepts='50', ckpt='/home/rm5707/ImageClefMedical-main/concept_detection/multilabel/results/multilabel/2022-12-12_06-37-33/best_model.pt', images_csv='/home/rm5707/ImageClefMedical-main/concept_detection/multilabel/cuis_top_test_50.txt', image_dir='/scratch/rm5707/test-generated/test', inference_type='test-gen')\n",
      "Epoch of best val loss 25\n",
      "Using concept File :  /home/rm5707/ImageClefMedical-main/concept_detection/multilabel/concepts_top_50.txt\n",
      "Total [ 0 ] images with no CUIds.\n",
      "(6321, 50)\n",
      "100%|███████████████████████████████████████| 6321/6321 [04:57<00:00, 21.22it/s]\n",
      "Created :  /home/rm5707/ImageClefMedical-main/concept_detection/multilabel/results/multilabel/2022-12-12_06-37-33/preds_test-gen.txt\n",
      "y_true :  torch.Size([6321, 50])\n",
      "y_pred :  torch.Size([6321, 50])\n",
      "F1 score (weighted): 0.27445507132793107\n",
      "F1 score (None)    : [0.69732492 0.69268293 0.66018158 0.10229508 0.09498328 0.09986505\n",
      " 0.08122744 0.69691877 0.16496756 0.01365188 0.62665824 0.08245243\n",
      " 0.09003215 0.35276753 0.66666667 0.52522255 0.59864966 0.00316957\n",
      " 0.00725953 0.         0.         0.         0.22624434 0.04117647\n",
      " 0.61538462 0.20224719 0.         0.19839142 0.01904762 0.05111821\n",
      " 0.         0.1328125  0.02120141 0.         0.12749004 0.\n",
      " 0.50810811 0.21935484 0.         0.06530612 0.19205298 0.05172414\n",
      " 0.3011583  0.01769912 0.         0.01777778 0.         0.\n",
      " 0.         0.        ]\n",
      "F1 score (micro)    : 0.36211612096585133\n"
     ]
    }
   ],
   "source": [
    "# On Generated Images\n",
    "!python inference.py --basedir /home/rm5707/ImageClefMedical-main/concept_detection/multilabel \\\n",
    "                    --nr_concepts 50 \\\n",
    "                    --images_csv /home/rm5707/ImageClefMedical-main/concept_detection/multilabel/cuis_top_test_50.txt \\\n",
    "                    --ckpt /home/rm5707/ImageClefMedical-main/concept_detection/multilabel/results/multilabel/2022-12-12_06-37-33/best_model.pt\\\n",
    "                    --image_dir /scratch/rm5707/test-generated/test \\\n",
    "                    --inference_type test-gen"
   ]
  },
  {
   "cell_type": "code",
   "execution_count": 4,
   "metadata": {},
   "outputs": [
    {
     "name": "stdout",
     "output_type": "stream",
     "text": [
      "Arguments :\n",
      "Namespace(gpu_id='0', num_workers=4, basedir='/home/rm5707/ImageClefMedical-main/concept_detection/multilabel', nr_concepts='50', ckpt='/home/rm5707/ImageClefMedical-main/concept_detection/multilabel/results/multilabel/2022-12-12_06-37-33/best_model.pt', images_csv='/home/rm5707/ImageClefMedical-main/concept_detection/multilabel/results/multilabel/2022-12-12_06-37-33/preds_test.txt', image_dir='/scratch/rm5707/test-generated/test', inference_type='test-gen-predicted-gt')\n",
      "Epoch of best val loss 25\n",
      "Using concept File :  /home/rm5707/ImageClefMedical-main/concept_detection/multilabel/concepts_top_50.txt\n",
      "Total [ 2845 ] images with no CUIds.\n",
      "(6321, 50)\n",
      "100%|███████████████████████████████████████| 6321/6321 [02:50<00:00, 37.16it/s]\n",
      "Created :  /home/rm5707/ImageClefMedical-main/concept_detection/multilabel/results/multilabel/2022-12-12_06-37-33/preds_test-gen-predicted-gt.txt\n",
      "y_true :  torch.Size([6321, 50])\n",
      "y_pred :  torch.Size([6321, 50])\n",
      "/ext3/miniconda3/envs/fall-ml-2022/lib/python3.10/site-packages/sklearn/metrics/_classification.py:1609: UndefinedMetricWarning: F-score is ill-defined and being set to 0.0 in labels with no true nor predicted samples. Use `zero_division` parameter to control this behavior.\n",
      "  _warn_prf(average, \"true nor predicted\", \"F-score is\", len(true_sum))\n",
      "F1 score (weighted): 0.5052567524320801\n",
      "/ext3/miniconda3/envs/fall-ml-2022/lib/python3.10/site-packages/sklearn/metrics/_classification.py:1609: UndefinedMetricWarning: F-score is ill-defined and being set to 0.0 in labels with no true nor predicted samples. Use `zero_division` parameter to control this behavior.\n",
      "  _warn_prf(average, \"true nor predicted\", \"F-score is\", len(true_sum))\n",
      "F1 score (None)    : [0.62566996 0.62292264 0.60695915 0.15695067 0.15306122 0.16748768\n",
      " 0.07633588 0.61883968 0.15315315 0.02857143 0.55166932 0.10852713\n",
      " 0.11152416 0.22977726 0.68312757 0.41212121 0.53410183 0.\n",
      " 0.         0.         0.66666667 0.66666667 0.13114754 0.08163265\n",
      " 0.54314003 0.21052632 0.         0.08       0.         0.03389831\n",
      " 0.         0.22033898 0.         0.         0.23333333 0.\n",
      " 0.54615385 0.19047619 0.         0.03921569 0.19736842 0.05882353\n",
      " 0.31292517 0.         0.         0.         0.         0.\n",
      " 0.         0.        ]\n",
      "F1 score (micro)    : 0.5066606046828824\n"
     ]
    }
   ],
   "source": [
    "# On Generated Images with test predictions as Ground Truth\n",
    "!python inference.py --basedir /home/rm5707/ImageClefMedical-main/concept_detection/multilabel \\\n",
    "                    --nr_concepts 50 \\\n",
    "                    --images_csv /home/rm5707/ImageClefMedical-main/concept_detection/multilabel/results/multilabel/2022-12-12_06-37-33/preds_test.txt \\\n",
    "                    --ckpt /home/rm5707/ImageClefMedical-main/concept_detection/multilabel/results/multilabel/2022-12-12_06-37-33/best_model.pt\\\n",
    "                    --image_dir /scratch/rm5707/test-generated/test \\\n",
    "                    --inference_type test-gen-predicted-gt"
   ]
  },
  {
   "cell_type": "code",
   "execution_count": null,
   "metadata": {},
   "outputs": [],
   "source": []
  },
  {
   "cell_type": "code",
   "execution_count": null,
   "metadata": {},
   "outputs": [],
   "source": []
  },
  {
   "cell_type": "code",
   "execution_count": null,
   "metadata": {},
   "outputs": [],
   "source": []
  },
  {
   "cell_type": "code",
   "execution_count": null,
   "metadata": {},
   "outputs": [],
   "source": []
  },
  {
   "cell_type": "code",
   "execution_count": 5,
   "metadata": {},
   "outputs": [],
   "source": [
    "cuids = ['C1546708','C1837463','C0376152','C0015726','C0423899','C1261259','C1696103','C1306645','C0040395','C0441633','C0043299','C0034579','C0040405','C0771936','C0817096','C1962945','C1548003','C0772294','C4300092','C0221198','C1507248','C0009924','C0024109','C0751437','C0002978','C0935598','C0027651','C0041618','C0000726','C0231881','C0796494','C0006104','C0607422','C0751438','C0027530','C0015252','C0018787','C0030797','C0728940','C1963113','C2707265','C0016658','C0018827','C0412555','C1552858','C0003842','C1553386','C1561542','C0042449','C0022646']"
   ]
  },
  {
   "cell_type": "code",
   "execution_count": 6,
   "metadata": {},
   "outputs": [
    {
     "data": {
      "text/plain": [
       "50"
      ]
     },
     "execution_count": 6,
     "metadata": {},
     "output_type": "execute_result"
    }
   ],
   "source": [
    "len(cuids)\n"
   ]
  },
  {
   "cell_type": "code",
   "execution_count": 7,
   "metadata": {},
   "outputs": [],
   "source": [
    "ids = [0,1,2,7,10,14,15,16,20,21,24,36]"
   ]
  },
  {
   "cell_type": "code",
   "execution_count": 8,
   "metadata": {},
   "outputs": [
    {
     "name": "stdout",
     "output_type": "stream",
     "text": [
      "C1546708\n",
      "C1837463\n",
      "C0376152\n",
      "C1306645\n",
      "C0043299\n",
      "C0817096\n",
      "C1962945\n",
      "C1548003\n",
      "C1507248\n",
      "C0009924\n",
      "C0002978\n",
      "C0018787\n"
     ]
    }
   ],
   "source": [
    "for i in ids:\n",
    "    print(cuids[i])"
   ]
  },
  {
   "cell_type": "code",
   "execution_count": null,
   "metadata": {},
   "outputs": [],
   "source": []
  }
 ],
 "metadata": {
  "kernelspec": {
   "display_name": "ml-fall-2022",
   "language": "python",
   "name": "ml-fall-2022"
  },
  "language_info": {
   "codemirror_mode": {
    "name": "ipython",
    "version": 3
   },
   "file_extension": ".py",
   "mimetype": "text/x-python",
   "name": "python",
   "nbconvert_exporter": "python",
   "pygments_lexer": "ipython3",
   "version": "3.10.8"
  }
 },
 "nbformat": 4,
 "nbformat_minor": 4
}
